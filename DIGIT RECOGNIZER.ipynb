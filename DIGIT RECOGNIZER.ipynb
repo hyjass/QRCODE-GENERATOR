{
 "cells": [
  {
   "cell_type": "code",
   "execution_count": 3,
   "id": "09fde6fc-4734-43ec-879f-9a1ee7dacf04",
   "metadata": {},
   "outputs": [],
   "source": [
    "#IMPORT LIBRARIES\n",
    "import tensorflow as tf  #TRAINING NEURAL NETWORK\n",
    "from tensorflow.keras import layers, models  #TRAINING NEURAL NETWORK\n",
    "from tensorflow.keras.datasets import mnist   #TRAINING NEURAL NETWORK\n",
    "import matplotlib.pyplot as plt  \n",
    "from PIL import Image  #HANDLES IMAGE DATA\n",
    "import numpy as np    #HANDLES IAMGE DATA"
   ]
  },
  {
   "cell_type": "code",
   "execution_count": 4,
   "id": "9f0f6a34-01d9-4c16-8fbb-af4fca1cbe67",
   "metadata": {},
   "outputs": [],
   "source": [
    "\n",
    "(train_images, train_labels), (test_images, test_labels) = mnist.load_data()  #LOAD MNIST DATASET AND SPLIT INTO TRAINING AND TEST DATA\n",
    "train_images, test_images = train_images / 255.0, test_images / 255.0  #PIXEL VALUES OF IMAGE ARE SCALED\n"
   ]
  },
  {
   "cell_type": "code",
   "execution_count": 5,
   "id": "c06c4c7f-bd0b-441b-9097-83d20761a6a4",
   "metadata": {},
   "outputs": [
    {
     "name": "stderr",
     "output_type": "stream",
     "text": [
      "C:\\Users\\HP\\AppData\\Roaming\\Python\\Python312\\site-packages\\keras\\src\\layers\\reshaping\\flatten.py:37: UserWarning: Do not pass an `input_shape`/`input_dim` argument to a layer. When using Sequential models, prefer using an `Input(shape)` object as the first layer in the model instead.\n",
      "  super().__init__(**kwargs)\n"
     ]
    }
   ],
   "source": [
    "model = models.Sequential([     #linear stack is created\n",
    "    layers.Flatten(input_shape=(28, 28)),   #CONVERTS IMAGE TO 1D ARRAY\n",
    "    layers.Dense(128, activation='relu'),    #RELU LAYER ACTIVATION\n",
    "    layers.Dropout(0.2),    #DROPS 20% OF NEURONS RANDOMLY\n",
    "    layers.Dense(10, activation='softmax')   #FULLY CONMNECTED LAYER WITH 10 NEURONS\n",
    "])"
   ]
  },
  {
   "cell_type": "code",
   "execution_count": 6,
   "id": "ed772c76-7e9a-4b55-b8e9-9eae12e8eb0e",
   "metadata": {},
   "outputs": [],
   "source": [
    "model.compile(optimizer='adam',   #MINIMISES LOSS FUNCTION\n",
    "              loss='sparse_categorical_crossentropy',   #LOSS FN\n",
    "              metrics=['accuracy'])   #ACCURACY AND PERFORMANCE OF MODEL"
   ]
  },
  {
   "cell_type": "code",
   "execution_count": 7,
   "id": "7057f30b-2c83-4527-9dca-cda14f620898",
   "metadata": {},
   "outputs": [
    {
     "name": "stdout",
     "output_type": "stream",
     "text": [
      "Epoch 1/5\n",
      "\u001b[1m1875/1875\u001b[0m \u001b[32m━━━━━━━━━━━━━━━━━━━━\u001b[0m\u001b[37m\u001b[0m \u001b[1m6s\u001b[0m 2ms/step - accuracy: 0.8602 - loss: 0.4773\n",
      "Epoch 2/5\n",
      "\u001b[1m1875/1875\u001b[0m \u001b[32m━━━━━━━━━━━━━━━━━━━━\u001b[0m\u001b[37m\u001b[0m \u001b[1m5s\u001b[0m 3ms/step - accuracy: 0.9569 - loss: 0.1470\n",
      "Epoch 3/5\n",
      "\u001b[1m1875/1875\u001b[0m \u001b[32m━━━━━━━━━━━━━━━━━━━━\u001b[0m\u001b[37m\u001b[0m \u001b[1m5s\u001b[0m 3ms/step - accuracy: 0.9678 - loss: 0.1090\n",
      "Epoch 4/5\n",
      "\u001b[1m1875/1875\u001b[0m \u001b[32m━━━━━━━━━━━━━━━━━━━━\u001b[0m\u001b[37m\u001b[0m \u001b[1m5s\u001b[0m 3ms/step - accuracy: 0.9744 - loss: 0.0853\n",
      "Epoch 5/5\n",
      "\u001b[1m1875/1875\u001b[0m \u001b[32m━━━━━━━━━━━━━━━━━━━━\u001b[0m\u001b[37m\u001b[0m \u001b[1m5s\u001b[0m 3ms/step - accuracy: 0.9786 - loss: 0.0719\n"
     ]
    },
    {
     "data": {
      "text/plain": [
       "<keras.src.callbacks.history.History at 0x22367a51250>"
      ]
     },
     "execution_count": 7,
     "metadata": {},
     "output_type": "execute_result"
    }
   ],
   "source": [
    "model.fit(train_images, train_labels, epochs=5)   #MODEL IS TRAINED ON TRAINING DATA FOR 5 EPOCHS"
   ]
  },
  {
   "cell_type": "code",
   "execution_count": 8,
   "id": "8b9163be-96ec-4bed-b73d-eae574d0a18d",
   "metadata": {},
   "outputs": [
    {
     "name": "stdout",
     "output_type": "stream",
     "text": [
      "\u001b[1m313/313\u001b[0m \u001b[32m━━━━━━━━━━━━━━━━━━━━\u001b[0m\u001b[37m\u001b[0m \u001b[1m1s\u001b[0m 2ms/step - accuracy: 0.9718 - loss: 0.0907\n",
      "Test accuracy: 0.9764000177383423\n"
     ]
    }
   ],
   "source": [
    "test_loss, test_acc = model.evaluate(test_images, test_labels)  #MODEL IS BEING EVALUATED ON TEST DATA\n",
    "print(f\"Test accuracy: {test_acc}\")"
   ]
  },
  {
   "cell_type": "code",
   "execution_count": 9,
   "id": "d3bc56e3-0cf1-46ec-9c92-9a0033983f98",
   "metadata": {},
   "outputs": [],
   "source": [
    "def predict_user_input(image_path):\n",
    "    # Load user input image\n",
    "    user_image = Image.open(image_path).convert('L')   #IMAGE IS LOADED AND CONVERTED TO GRAYSCALE\n",
    "    user_image = user_image.resize((28, 28))    #THE IMAGE IS RESIZED \n",
    "    user_image_array = np.array(user_image) / 255.0   #IMAGE PIXELS ARE  SCALED TO {0,1}\n",
    "    user_image_array = np.expand_dims(user_image_array, axis=0) #IMAGE ARRAY IS RESHAPED TO MATCH THE INPUT SHAPE\n",
    "\n",
    "    # Make prediction\n",
    "    prediction = model.predict(user_image_array)\n",
    "    predicted_digit = np.argmax(prediction)\n",
    "\n",
    "    return predicted_digit"
   ]
  },
  {
   "cell_type": "code",
   "execution_count": 10,
   "id": "724c1af1-9aab-4e68-8127-6bc54cc00e24",
   "metadata": {},
   "outputs": [
    {
     "data": {
      "image/png": "[encoded data removed]",
      "text/plain": [
       "<Figure size 640x480 with 1 Axes>"
      ]
     },
     "metadata": {},
     "output_type": "display_data"
    }
   ],
   "source": [
    "import matplotlib.pyplot as plt\n",
    "import matplotlib.image as mpimg\n",
    "\n",
    "# Read the image\n",
    "img = mpimg.imread(r\"C:\\Users\\HP\\Downloads\\five.jpg\")\n",
    "\n",
    "# Display the image\n",
    "plt.imshow(img) \n",
    "plt.show()\n"
   ]
  },
  {
   "cell_type": "code",
   "execution_count": 21,
   "id": "d9a4be66-5697-4110-bade-5302feccbb2f",
   "metadata": {},
   "outputs": [
    {
     "name": "stdout",
     "output_type": "stream",
     "text": [
      "\u001b[1m1/1\u001b[0m \u001b[32m━━━━━━━━━━━━━━━━━━━━\u001b[0m\u001b[37m\u001b[0m \u001b[1m0s\u001b[0m 44ms/step\n",
      "predicted_digit : 5\n"
     ]
    }
   ],
   "source": [
    "from PIL import Image\n",
    "predicted_digit=predict_user_input(r\"C:\\Users\\HP\\Downloads\\five.jpg\")\n",
    "print(f\"predicted_digit : {predicted_digit}\")  #2 3 4 5 6 7 8"
   ]
  },
  {
   "cell_type": "code",
   "execution_count": null,
   "id": "7f3b4e7b-385a-4644-905e-0619b4d740c1",
   "metadata": {},
   "outputs": [],
   "source": []
  }
 ],
 "metadata": {
  "kernelspec": {
   "display_name": "Python 3 (ipykernel)",
   "language": "python",
   "name": "python3"
  },
  "language_info": {
   "codemirror_mode": {
    "name": "ipython",
    "version": 3
   },
   "file_extension": ".py",
   "mimetype": "text/x-python",
   "name": "python",
   "nbconvert_exporter": "python",
   "pygments_lexer": "ipython3",
   "version": "3.12.4"
  }
 },
 "nbformat": 4,
 "nbformat_minor": 5
}
